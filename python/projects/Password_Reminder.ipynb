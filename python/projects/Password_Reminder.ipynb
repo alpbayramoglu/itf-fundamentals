{
  "nbformat": 4,
  "nbformat_minor": 0,
  "metadata": {
    "colab": {
      "name": "Assignment-009/1 (Password Reminder).ipynb",
      "provenance": []
    },
    "kernelspec": {
      "name": "python3",
      "display_name": "Python 3"
    },
    "language_info": {
      "name": "python"
    }
  },
  "cells": [
    {
      "cell_type": "code",
      "metadata": {
        "colab": {
          "base_uri": "https://localhost:8080/"
        },
        "id": "J-SBYQkxezGx",
        "outputId": "ccc76bf2-7250-4c38-c1bb-f72d5ec08c52"
      },
      "source": [
        "first_name = input(\"What is your first name: \").title().strip()\n",
        "\n",
        "if first_name == \"Alp\":\n",
        "  print(\"Hello, Alp! The password is : W@12\")\n",
        "else:\n",
        "  print(f\"Hello, {first_name}! See you later.\") "
      ],
      "execution_count": 8,
      "outputs": [
        {
          "output_type": "stream",
          "text": [
            "What is your first name:     aLp    \n",
            "Hello, Alp! The password is : W@12\n"
          ],
          "name": "stdout"
        }
      ]
    }
  ]
}