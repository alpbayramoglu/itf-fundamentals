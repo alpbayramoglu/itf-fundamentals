{
  "nbformat": 4,
  "nbformat_minor": 0,
  "metadata": {
    "colab": {
      "name": "Letters_Count.ipynb",
      "provenance": []
    },
    "kernelspec": {
      "name": "python3",
      "display_name": "Python 3"
    },
    "language_info": {
      "name": "python"
    }
  },
  "cells": [
    {
      "cell_type": "code",
      "metadata": {
        "colab": {
          "base_uri": "https://localhost:8080/"
        },
        "id": "5xE2-j6s4DMJ",
        "outputId": "1bde73b5-1d87-47d6-8c8e-1584b3617ff2"
      },
      "source": [
        "sentence = input(\"Enter a sentence: \")\n",
        "\n",
        "counter = {}\n",
        "\n",
        "for i in sentence:\n",
        "  counter[i] = sentence.count(i)\n",
        "\n",
        "counter"
      ],
      "execution_count": 21,
      "outputs": [
        {
          "output_type": "stream",
          "text": [
            "Enter a sentence: a bb ccc dddd eeeee\n"
          ],
          "name": "stdout"
        },
        {
          "output_type": "execute_result",
          "data": {
            "text/plain": [
              "{' ': 4, 'a': 1, 'b': 2, 'c': 3, 'd': 4, 'e': 5}"
            ]
          },
          "metadata": {},
          "execution_count": 21
        }
      ]
    }
  ]
}