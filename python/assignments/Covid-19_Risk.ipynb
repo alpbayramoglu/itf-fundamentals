{
  "nbformat": 4,
  "nbformat_minor": 0,
  "metadata": {
    "colab": {
      "name": "covid.ipynb",
      "provenance": [],
      "collapsed_sections": []
    },
    "kernelspec": {
      "name": "python3",
      "display_name": "Python 3"
    },
    "language_info": {
      "name": "python"
    }
  },
  "cells": [
    {
      "cell_type": "code",
      "metadata": {
        "id": "APJBvveOGyQ6"
      },
      "source": [
        "print(\"Answer the questions as Yes or No\", end=\"\\n\\n\")\n",
        "\n",
        "age = input(\"Are you a cigarette addict older than 75 years old?: \").title().strip()\n",
        "chronic = input(\"Do you have a severe chronic disease?: \").title().strip()\n",
        "immune = input(\"Is your immune system too weak?: \").title().strip()\n",
        "\n",
        "age = age == \"Yes\"\n",
        "chronic = chronic == \"Yes\"\n",
        "immune = immune == \"Yes\"\n",
        "\n",
        "risk = age or chronic or immune\n",
        "\n",
        "if risk == True:\n",
        "  print(\"You are in risky group\")\n",
        "else:\n",
        "  print(\"You are not in risky group\")\n",
        "   \n"
      ],
      "execution_count": null,
      "outputs": []
    }
  ]
}