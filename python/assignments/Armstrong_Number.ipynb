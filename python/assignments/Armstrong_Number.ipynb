{
  "nbformat": 4,
  "nbformat_minor": 0,
  "metadata": {
    "colab": {
      "name": "Armstrong_Number.ipynb",
      "provenance": [],
      "collapsed_sections": []
    },
    "kernelspec": {
      "name": "python3",
      "display_name": "Python 3"
    },
    "language_info": {
      "name": "python"
    }
  },
  "cells": [
    {
      "cell_type": "code",
      "metadata": {
        "id": "uYCMEv0JQFve"
      },
      "source": [
        "num = input(\"Enter a positive number: \")\n",
        "\n",
        "num_list = list(num)\n",
        "\n",
        "armstrong = 0\n",
        "\n",
        "if num.isdigit() and int(num) > 0 : # Pozitif sayı isteniyor.\n",
        "  for i in range(len(num_list)):\n",
        "    armstrong += int(num_list[i]) ** len(num_list)\n",
        "\n",
        "  if int(num) == armstrong:\n",
        "    print(f\"{num} is an Armstrong number\")\n",
        "  else:\n",
        "    print(f\"{num} is not an Armstrong number\")\n",
        "    \n",
        "else:\n",
        "  print(\" It is an invalid entry. Don't use non-numeric, float, or negative values!\")"
      ],
      "execution_count": null,
      "outputs": []
    }
  ]
}