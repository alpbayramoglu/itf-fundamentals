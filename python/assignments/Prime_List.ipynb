{
  "nbformat": 4,
  "nbformat_minor": 0,
  "metadata": {
    "colab": {
      "name": "Prime_list.ipynb",
      "provenance": []
    },
    "kernelspec": {
      "name": "python3",
      "display_name": "Python 3"
    },
    "language_info": {
      "name": "python"
    }
  },
  "cells": [
    {
      "cell_type": "code",
      "metadata": {
        "colab": {
          "base_uri": "https://localhost:8080/"
        },
        "id": "FHj6DsDt8KnE",
        "outputId": "f061c530-e027-40d9-a2dd-a291e3b60085"
      },
      "source": [
        "n = input(\"Enter a number: \")\n",
        "\n",
        "prime = []\n",
        "\n",
        "if n.isdigit() and int(n) > 1:\n",
        "  n = int(n)\n",
        "  \n",
        "  for i in (range(2, n+1)):\n",
        "    for j in (range(2, i)):\n",
        "      if i % j == 0:\n",
        "        break\n",
        "    else:\n",
        "      prime.append(i)         \n",
        "        \n",
        "  print(prime)    \n",
        "         \n",
        "elif n.isdigit() and int(n) < 2:\n",
        "  print(\"Your number must be over 1\")\n",
        "\n",
        "else:\n",
        "  print(\"Try to write a whole number!\")"
      ],
      "execution_count": 26,
      "outputs": [
        {
          "output_type": "stream",
          "text": [
            "Enter a number: 100\n",
            "[2, 3, 5, 7, 11, 13, 17, 19, 23, 29, 31, 37, 41, 43, 47, 53, 59, 61, 67, 71, 73, 79, 83, 89, 97]\n"
          ],
          "name": "stdout"
        }
      ]
    }
  ]
}