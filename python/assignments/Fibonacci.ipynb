{
  "nbformat": 4,
  "nbformat_minor": 0,
  "metadata": {
    "colab": {
      "name": "Fibonacci.ipynb",
      "provenance": [],
      "collapsed_sections": []
    },
    "kernelspec": {
      "name": "python3",
      "display_name": "Python 3"
    },
    "language_info": {
      "name": "python"
    }
  },
  "cells": [
    {
      "cell_type": "code",
      "metadata": {
        "colab": {
          "base_uri": "https://localhost:8080/"
        },
        "id": "WHAq-PYNQzNV",
        "outputId": "111742d2-6410-418c-9a99-810e0493199d"
      },
      "source": [
        "a = 0\n",
        "b = 1\n",
        "fibonacci = [1]\n",
        "\n",
        "i = 1\n",
        "while i < 10:\n",
        "  fib = a + b\n",
        "  a = b\n",
        "  b = fib\n",
        "  fibonacci.append(fib)\n",
        "  i += 1\n",
        "print(fibonacci)"
      ],
      "execution_count": null,
      "outputs": [
        {
          "output_type": "stream",
          "text": [
            "[1, 1, 2, 3, 5, 8, 13, 21, 34, 55]\n"
          ],
          "name": "stdout"
        }
      ]
    }
  ]
}