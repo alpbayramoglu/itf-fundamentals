{
  "nbformat": 4,
  "nbformat_minor": 0,
  "metadata": {
    "colab": {
      "name": "Prime_Number.ipynb",
      "provenance": []
    },
    "kernelspec": {
      "name": "python3",
      "display_name": "Python 3"
    },
    "language_info": {
      "name": "python"
    }
  },
  "cells": [
    {
      "cell_type": "code",
      "metadata": {
        "id": "PuyPxAPlARIl"
      },
      "source": [
        "x = input(\"Enter a number: \")\n",
        "\n",
        "if x == \"2\":\n",
        "  print(f\"{x} is a prime number.\")  \n",
        "\n",
        "elif x.isdigit() and int(x) > 1:\n",
        "  x = int(x)\n",
        "\n",
        "  for i in list(range(2, x)):\n",
        "    \n",
        "    if x % i == 0:\n",
        "      a = (f\"{x} is not a prime number.\")\n",
        "      break\n",
        "    else:\n",
        "      a = (f\"{x} is a prime number.\") \n",
        "\n",
        "  print(a)    \n",
        "         \n",
        "elif x.isdigit() and int(x) < 2:\n",
        "  print(\"Your number must be over 1\")\n",
        "\n",
        "else:\n",
        "  print(\"Try to write a whole number!\")"
      ],
      "execution_count": null,
      "outputs": []
    }
  ]
}